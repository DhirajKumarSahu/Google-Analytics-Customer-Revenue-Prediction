{
 "cells": [
  {
   "cell_type": "markdown",
   "id": "juvenile-assist",
   "metadata": {},
   "source": [
    "### Importing the necessary Libraries"
   ]
  },
  {
   "cell_type": "code",
   "execution_count": 12,
   "id": "intended-housing",
   "metadata": {},
   "outputs": [],
   "source": [
    "import dask\n",
    "import json\n",
    "from pandas.io.json import json_normalize\n",
    "from tqdm import tqdm\n",
    "import os\n",
    "import dask.dataframe as dd\n",
    "import pandas as pd"
   ]
  },
  {
   "cell_type": "code",
   "execution_count": 9,
   "id": "consistent-berry",
   "metadata": {},
   "outputs": [],
   "source": [
    "df = dd.read_csv('train.csv')"
   ]
  },
  {
   "cell_type": "code",
   "execution_count": 10,
   "id": "naked-casting",
   "metadata": {},
   "outputs": [],
   "source": [
    "csv_path = \"train.csv\""
   ]
  },
  {
   "cell_type": "code",
   "execution_count": 28,
   "id": "driving-arrangement",
   "metadata": {},
   "outputs": [
    {
     "name": "stdout",
     "output_type": "stream",
     "text": [
      "<class 'dask.dataframe.core.DataFrame'>\n",
      "Columns: 12 entries, channelGrouping to visitStartTime\n",
      "dtypes: object(7), int64(4), uint64(1)"
     ]
    }
   ],
   "source": [
    "df.info()"
   ]
  },
  {
   "cell_type": "markdown",
   "id": "marked-metallic",
   "metadata": {},
   "source": [
    "### Columns in Dataset"
   ]
  },
  {
   "cell_type": "code",
   "execution_count": 12,
   "id": "fitting-nancy",
   "metadata": {},
   "outputs": [
    {
     "data": {
      "text/plain": [
       "Index(['channelGrouping', 'date', 'device', 'fullVisitorId', 'geoNetwork',\n",
       "       'sessionId', 'socialEngagementType', 'totals', 'trafficSource',\n",
       "       'visitId', 'visitNumber', 'visitStartTime'],\n",
       "      dtype='object')"
      ]
     },
     "execution_count": 12,
     "metadata": {},
     "output_type": "execute_result"
    }
   ],
   "source": [
    "df.columns"
   ]
  },
  {
   "cell_type": "markdown",
   "id": "extreme-battle",
   "metadata": {},
   "source": [
    "### In the given dataset, there are 4 features which are in JSON format, they are - 'device', 'geoNetwork', 'totals' and 'trafficSource'\n",
    "### In the below code, we have flatten the dataframe, in order to extract all the JSON Formatted features as separate columns."
   ]
  },
  {
   "cell_type": "code",
   "execution_count": 10,
   "id": "removed-minute",
   "metadata": {},
   "outputs": [],
   "source": [
    "def load_df(csv_path, nrows=None):\n",
    "    JSON_COLUMNS = ['device', 'geoNetwork', 'totals', 'trafficSource'] # we are definig a list of json column names\n",
    "\n",
    "    df = dd.read_csv(csv_path,\n",
    "                     converters={\n",
    "                         column: json.loads for column in JSON_COLUMNS}, # It will create JSON object for every json column\n",
    "                     dtype={'fullVisitorId': 'str'})  # we are considering 'fullvisitor id as string'\n",
    "                     #nrows=nrows)\n",
    "\n",
    "    for column in tqdm(JSON_COLUMNS):\n",
    "        column_as_df = json_normalize(df[column]) # json_normalize will return a flatten dataframe of json columns\n",
    "        \n",
    "        column_as_df.columns = [\"{0}.{1}\".format(column, subcolumn) for subcolumn in column_as_df.columns] # we are taking  \n",
    "                                                                                                           # column names\n",
    "        df = df.drop(column, axis=1).merge(column_as_df, right_index=True, left_index=True) # we are dropping json column and\n",
    "                                                                                            # and merging data frame with parsed columns\n",
    "        \n",
    "    print(\"Loaded {0}. Shape: {1}\".format(os.path.basename(csv_path), df.shape))\n",
    "    \n",
    "    return df\n"
   ]
  },
  {
   "cell_type": "code",
   "execution_count": 14,
   "id": "damaged-february",
   "metadata": {},
   "outputs": [
    {
     "name": "stderr",
     "output_type": "stream",
     "text": [
      "  0%|                                                                                            | 0/4 [00:00<?, ?it/s]C:\\Users\\dhira\\Anaconda3\\lib\\site-packages\\ipykernel_launcher.py:11: FutureWarning: pandas.io.json.json_normalize is deprecated, use pandas.json_normalize instead\n",
      "  # This is added back by InteractiveShellApp.init_path()\n",
      " 25%|█████████████████████                                                               | 1/4 [01:38<04:55, 98.63s/it]C:\\Users\\dhira\\Anaconda3\\lib\\site-packages\\ipykernel_launcher.py:11: FutureWarning: pandas.io.json.json_normalize is deprecated, use pandas.json_normalize instead\n",
      "  # This is added back by InteractiveShellApp.init_path()\n",
      " 50%|█████████████████████████████████████████▌                                         | 2/4 [03:33<03:36, 108.23s/it]C:\\Users\\dhira\\Anaconda3\\lib\\site-packages\\ipykernel_launcher.py:11: FutureWarning: pandas.io.json.json_normalize is deprecated, use pandas.json_normalize instead\n",
      "  # This is added back by InteractiveShellApp.init_path()\n",
      " 75%|███████████████████████████████████████████████████████████████                     | 3/4 [05:00<01:38, 98.34s/it]C:\\Users\\dhira\\Anaconda3\\lib\\site-packages\\ipykernel_launcher.py:11: FutureWarning: pandas.io.json.json_normalize is deprecated, use pandas.json_normalize instead\n",
      "  # This is added back by InteractiveShellApp.init_path()\n",
      "100%|███████████████████████████████████████████████████████████████████████████████████| 4/4 [06:52<00:00, 103.10s/it]"
     ]
    },
    {
     "name": "stdout",
     "output_type": "stream",
     "text": [
      "Loaded train.csv. Shape: (Delayed('int-9972cece-a831-47ef-8e02-d90450d8d621'), 55)\n"
     ]
    },
    {
     "name": "stderr",
     "output_type": "stream",
     "text": [
      "\n"
     ]
    }
   ],
   "source": [
    "ddf=load_df(csv_path)"
   ]
  },
  {
   "cell_type": "code",
   "execution_count": 15,
   "id": "municipal-chocolate",
   "metadata": {},
   "outputs": [
    {
     "data": {
      "text/html": [
       "<div>\n",
       "<style scoped>\n",
       "    .dataframe tbody tr th:only-of-type {\n",
       "        vertical-align: middle;\n",
       "    }\n",
       "\n",
       "    .dataframe tbody tr th {\n",
       "        vertical-align: top;\n",
       "    }\n",
       "\n",
       "    .dataframe thead th {\n",
       "        text-align: right;\n",
       "    }\n",
       "</style>\n",
       "<table border=\"1\" class=\"dataframe\">\n",
       "  <thead>\n",
       "    <tr style=\"text-align: right;\">\n",
       "      <th></th>\n",
       "      <th>channelGrouping</th>\n",
       "      <th>date</th>\n",
       "      <th>fullVisitorId</th>\n",
       "      <th>sessionId</th>\n",
       "      <th>socialEngagementType</th>\n",
       "      <th>visitId</th>\n",
       "      <th>visitNumber</th>\n",
       "      <th>visitStartTime</th>\n",
       "      <th>device.browser</th>\n",
       "      <th>device.browserVersion</th>\n",
       "      <th>...</th>\n",
       "      <th>trafficSource.adwordsClickInfo.criteriaParameters</th>\n",
       "      <th>trafficSource.isTrueDirect</th>\n",
       "      <th>trafficSource.referralPath</th>\n",
       "      <th>trafficSource.adwordsClickInfo.page</th>\n",
       "      <th>trafficSource.adwordsClickInfo.slot</th>\n",
       "      <th>trafficSource.adwordsClickInfo.gclId</th>\n",
       "      <th>trafficSource.adwordsClickInfo.adNetworkType</th>\n",
       "      <th>trafficSource.adwordsClickInfo.isVideoAd</th>\n",
       "      <th>trafficSource.adContent</th>\n",
       "      <th>trafficSource.campaignCode</th>\n",
       "    </tr>\n",
       "  </thead>\n",
       "  <tbody>\n",
       "    <tr>\n",
       "      <th>0</th>\n",
       "      <td>Organic Search</td>\n",
       "      <td>20160902</td>\n",
       "      <td>1131660440785968503</td>\n",
       "      <td>1131660440785968503_1472830385</td>\n",
       "      <td>Not Socially Engaged</td>\n",
       "      <td>1472830385</td>\n",
       "      <td>1</td>\n",
       "      <td>1472830385</td>\n",
       "      <td>Chrome</td>\n",
       "      <td>not available in demo dataset</td>\n",
       "      <td>...</td>\n",
       "      <td>not available in demo dataset</td>\n",
       "      <td>NaN</td>\n",
       "      <td>NaN</td>\n",
       "      <td>NaN</td>\n",
       "      <td>NaN</td>\n",
       "      <td>NaN</td>\n",
       "      <td>NaN</td>\n",
       "      <td>NaN</td>\n",
       "      <td>NaN</td>\n",
       "      <td>NaN</td>\n",
       "    </tr>\n",
       "    <tr>\n",
       "      <th>1</th>\n",
       "      <td>Organic Search</td>\n",
       "      <td>20160902</td>\n",
       "      <td>377306020877927890</td>\n",
       "      <td>377306020877927890_1472880147</td>\n",
       "      <td>Not Socially Engaged</td>\n",
       "      <td>1472880147</td>\n",
       "      <td>1</td>\n",
       "      <td>1472880147</td>\n",
       "      <td>Firefox</td>\n",
       "      <td>not available in demo dataset</td>\n",
       "      <td>...</td>\n",
       "      <td>not available in demo dataset</td>\n",
       "      <td>NaN</td>\n",
       "      <td>NaN</td>\n",
       "      <td>NaN</td>\n",
       "      <td>NaN</td>\n",
       "      <td>NaN</td>\n",
       "      <td>NaN</td>\n",
       "      <td>NaN</td>\n",
       "      <td>NaN</td>\n",
       "      <td>NaN</td>\n",
       "    </tr>\n",
       "  </tbody>\n",
       "</table>\n",
       "<p>2 rows × 55 columns</p>\n",
       "</div>"
      ],
      "text/plain": [
       "  channelGrouping      date        fullVisitorId  \\\n",
       "0  Organic Search  20160902  1131660440785968503   \n",
       "1  Organic Search  20160902   377306020877927890   \n",
       "\n",
       "                        sessionId  socialEngagementType     visitId  \\\n",
       "0  1131660440785968503_1472830385  Not Socially Engaged  1472830385   \n",
       "1   377306020877927890_1472880147  Not Socially Engaged  1472880147   \n",
       "\n",
       "   visitNumber  visitStartTime device.browser          device.browserVersion  \\\n",
       "0            1      1472830385         Chrome  not available in demo dataset   \n",
       "1            1      1472880147        Firefox  not available in demo dataset   \n",
       "\n",
       "   ... trafficSource.adwordsClickInfo.criteriaParameters  \\\n",
       "0  ...                     not available in demo dataset   \n",
       "1  ...                     not available in demo dataset   \n",
       "\n",
       "  trafficSource.isTrueDirect trafficSource.referralPath  \\\n",
       "0                        NaN                        NaN   \n",
       "1                        NaN                        NaN   \n",
       "\n",
       "   trafficSource.adwordsClickInfo.page trafficSource.adwordsClickInfo.slot  \\\n",
       "0                                  NaN                                 NaN   \n",
       "1                                  NaN                                 NaN   \n",
       "\n",
       "  trafficSource.adwordsClickInfo.gclId  \\\n",
       "0                                  NaN   \n",
       "1                                  NaN   \n",
       "\n",
       "  trafficSource.adwordsClickInfo.adNetworkType  \\\n",
       "0                                          NaN   \n",
       "1                                          NaN   \n",
       "\n",
       "  trafficSource.adwordsClickInfo.isVideoAd trafficSource.adContent  \\\n",
       "0                                      NaN                     NaN   \n",
       "1                                      NaN                     NaN   \n",
       "\n",
       "  trafficSource.campaignCode  \n",
       "0                        NaN  \n",
       "1                        NaN  \n",
       "\n",
       "[2 rows x 55 columns]"
      ]
     },
     "execution_count": 15,
     "metadata": {},
     "output_type": "execute_result"
    }
   ],
   "source": [
    "ddf.head(2)"
   ]
  },
  {
   "cell_type": "markdown",
   "id": "matched-invalid",
   "metadata": {},
   "source": [
    "### Identifying Columns with unique Value"
   ]
  },
  {
   "cell_type": "code",
   "execution_count": 16,
   "id": "freelance-alpha",
   "metadata": {},
   "outputs": [
    {
     "name": "stdout",
     "output_type": "stream",
     "text": [
      "socialEngagementType\n",
      "device.browserVersion\n",
      "device.browserSize\n",
      "device.operatingSystemVersion\n",
      "device.mobileDeviceBranding\n",
      "device.mobileDeviceModel\n",
      "device.mobileInputSelector\n",
      "device.mobileDeviceInfo\n",
      "device.mobileDeviceMarketingName\n",
      "device.flashVersion\n",
      "device.language\n",
      "device.screenColors\n",
      "device.screenResolution\n",
      "geoNetwork.cityId\n",
      "geoNetwork.latitude\n",
      "geoNetwork.longitude\n",
      "geoNetwork.networkLocation\n",
      "totals.visits\n",
      "trafficSource.adwordsClickInfo.criteriaParameters\n",
      "trafficSource.campaignCode\n"
     ]
    }
   ],
   "source": [
    "l=[]\n",
    "for i in list(ddf.columns):\n",
    "    if len(list(ddf[i].unique()))==1:\n",
    "        print(i)\n",
    "        l.append(i)"
   ]
  },
  {
   "cell_type": "code",
   "execution_count": 41,
   "id": "effective-stockholm",
   "metadata": {},
   "outputs": [
    {
     "data": {
      "text/plain": [
       "20"
      ]
     },
     "execution_count": 41,
     "metadata": {},
     "output_type": "execute_result"
    }
   ],
   "source": [
    "len(l)"
   ]
  },
  {
   "cell_type": "markdown",
   "id": "expired-wiring",
   "metadata": {},
   "source": [
    "### Dropping all the columns with unique values"
   ]
  },
  {
   "cell_type": "code",
   "execution_count": 37,
   "id": "successful-muscle",
   "metadata": {},
   "outputs": [],
   "source": [
    "for i in l:\n",
    "    ddf=ddf.drop(i,axis=1)"
   ]
  },
  {
   "cell_type": "code",
   "execution_count": 18,
   "id": "cutting-strengthening",
   "metadata": {},
   "outputs": [
    {
     "data": {
      "text/plain": [
       "Index(['channelGrouping', 'date', 'fullVisitorId', 'sessionId', 'visitId',\n",
       "       'visitNumber', 'visitStartTime', 'device.browser',\n",
       "       'device.operatingSystem', 'device.isMobile', 'device.deviceCategory',\n",
       "       'geoNetwork.continent', 'geoNetwork.subContinent', 'geoNetwork.country',\n",
       "       'geoNetwork.region', 'geoNetwork.metro', 'geoNetwork.city',\n",
       "       'geoNetwork.networkDomain', 'totals.hits', 'totals.pageviews',\n",
       "       'totals.bounces', 'totals.newVisits', 'totals.transactionRevenue',\n",
       "       'trafficSource.campaign', 'trafficSource.source',\n",
       "       'trafficSource.medium', 'trafficSource.keyword',\n",
       "       'trafficSource.isTrueDirect', 'trafficSource.referralPath',\n",
       "       'trafficSource.adwordsClickInfo.page',\n",
       "       'trafficSource.adwordsClickInfo.slot',\n",
       "       'trafficSource.adwordsClickInfo.gclId',\n",
       "       'trafficSource.adwordsClickInfo.adNetworkType',\n",
       "       'trafficSource.adwordsClickInfo.isVideoAd', 'trafficSource.adContent'],\n",
       "      dtype='object')"
      ]
     },
     "execution_count": 18,
     "metadata": {},
     "output_type": "execute_result"
    }
   ],
   "source": [
    "ddf.columns # Sanity Check if the columns dropped"
   ]
  },
  {
   "cell_type": "markdown",
   "id": "disturbed-albany",
   "metadata": {},
   "source": [
    "### Calculating the Null values"
   ]
  },
  {
   "cell_type": "markdown",
   "id": "further-istanbul",
   "metadata": {},
   "source": [
    "#### Reference -  https://stackoverflow.com/questions/51070985/find-out-the-percentage-of-missing-values-in-each-column-in-the-given-dataset - Used a slight modified version of it"
   ]
  },
  {
   "cell_type": "code",
   "execution_count": 30,
   "id": "miniature-utilization",
   "metadata": {},
   "outputs": [],
   "source": [
    "dt=(ddf.isnull().sum()/len(ddf.index))*100\n",
    "missing_values=pd.DataFrame({'Columns':dt.index,'Null Values Count':dt.values})"
   ]
  },
  {
   "cell_type": "code",
   "execution_count": 31,
   "id": "political-anchor",
   "metadata": {},
   "outputs": [
    {
     "data": {
      "text/html": [
       "<div>\n",
       "<style scoped>\n",
       "    .dataframe tbody tr th:only-of-type {\n",
       "        vertical-align: middle;\n",
       "    }\n",
       "\n",
       "    .dataframe tbody tr th {\n",
       "        vertical-align: top;\n",
       "    }\n",
       "\n",
       "    .dataframe thead th {\n",
       "        text-align: right;\n",
       "    }\n",
       "</style>\n",
       "<table border=\"1\" class=\"dataframe\">\n",
       "  <thead>\n",
       "    <tr style=\"text-align: right;\">\n",
       "      <th></th>\n",
       "      <th>Columns</th>\n",
       "      <th>Null Values Count</th>\n",
       "    </tr>\n",
       "  </thead>\n",
       "  <tbody>\n",
       "    <tr>\n",
       "      <th>0</th>\n",
       "      <td>channelGrouping</td>\n",
       "      <td>0.0</td>\n",
       "    </tr>\n",
       "    <tr>\n",
       "      <th>1</th>\n",
       "      <td>date</td>\n",
       "      <td>0.0</td>\n",
       "    </tr>\n",
       "    <tr>\n",
       "      <th>2</th>\n",
       "      <td>fullVisitorId</td>\n",
       "      <td>0.0</td>\n",
       "    </tr>\n",
       "    <tr>\n",
       "      <th>3</th>\n",
       "      <td>sessionId</td>\n",
       "      <td>0.0</td>\n",
       "    </tr>\n",
       "    <tr>\n",
       "      <th>4</th>\n",
       "      <td>visitId</td>\n",
       "      <td>0.0</td>\n",
       "    </tr>\n",
       "    <tr>\n",
       "      <th>5</th>\n",
       "      <td>visitNumber</td>\n",
       "      <td>0.0</td>\n",
       "    </tr>\n",
       "    <tr>\n",
       "      <th>6</th>\n",
       "      <td>visitStartTime</td>\n",
       "      <td>0.0</td>\n",
       "    </tr>\n",
       "    <tr>\n",
       "      <th>7</th>\n",
       "      <td>device.browser</td>\n",
       "      <td>0.0</td>\n",
       "    </tr>\n",
       "    <tr>\n",
       "      <th>8</th>\n",
       "      <td>device.operatingSystem</td>\n",
       "      <td>0.0</td>\n",
       "    </tr>\n",
       "    <tr>\n",
       "      <th>9</th>\n",
       "      <td>device.isMobile</td>\n",
       "      <td>0.0</td>\n",
       "    </tr>\n",
       "    <tr>\n",
       "      <th>10</th>\n",
       "      <td>device.deviceCategory</td>\n",
       "      <td>0.0</td>\n",
       "    </tr>\n",
       "    <tr>\n",
       "      <th>11</th>\n",
       "      <td>geoNetwork.continent</td>\n",
       "      <td>0.0</td>\n",
       "    </tr>\n",
       "    <tr>\n",
       "      <th>12</th>\n",
       "      <td>geoNetwork.subContinent</td>\n",
       "      <td>0.0</td>\n",
       "    </tr>\n",
       "    <tr>\n",
       "      <th>13</th>\n",
       "      <td>geoNetwork.country</td>\n",
       "      <td>0.0</td>\n",
       "    </tr>\n",
       "    <tr>\n",
       "      <th>14</th>\n",
       "      <td>geoNetwork.region</td>\n",
       "      <td>0.0</td>\n",
       "    </tr>\n",
       "    <tr>\n",
       "      <th>15</th>\n",
       "      <td>geoNetwork.metro</td>\n",
       "      <td>0.0</td>\n",
       "    </tr>\n",
       "    <tr>\n",
       "      <th>16</th>\n",
       "      <td>geoNetwork.city</td>\n",
       "      <td>0.0</td>\n",
       "    </tr>\n",
       "    <tr>\n",
       "      <th>17</th>\n",
       "      <td>geoNetwork.networkDomain</td>\n",
       "      <td>0.0</td>\n",
       "    </tr>\n",
       "    <tr>\n",
       "      <th>18</th>\n",
       "      <td>totals.hits</td>\n",
       "      <td>0.0</td>\n",
       "    </tr>\n",
       "    <tr>\n",
       "      <th>19</th>\n",
       "      <td>totals.pageviews</td>\n",
       "      <td>0.007636</td>\n",
       "    </tr>\n",
       "    <tr>\n",
       "      <th>20</th>\n",
       "      <td>totals.bounces</td>\n",
       "      <td>50.597741</td>\n",
       "    </tr>\n",
       "    <tr>\n",
       "      <th>21</th>\n",
       "      <td>totals.newVisits</td>\n",
       "      <td>21.535368</td>\n",
       "    </tr>\n",
       "    <tr>\n",
       "      <th>22</th>\n",
       "      <td>totals.transactionRevenue</td>\n",
       "      <td>98.738896</td>\n",
       "    </tr>\n",
       "    <tr>\n",
       "      <th>23</th>\n",
       "      <td>trafficSource.campaign</td>\n",
       "      <td>0.0</td>\n",
       "    </tr>\n",
       "    <tr>\n",
       "      <th>24</th>\n",
       "      <td>trafficSource.source</td>\n",
       "      <td>0.0</td>\n",
       "    </tr>\n",
       "    <tr>\n",
       "      <th>25</th>\n",
       "      <td>trafficSource.medium</td>\n",
       "      <td>0.0</td>\n",
       "    </tr>\n",
       "    <tr>\n",
       "      <th>26</th>\n",
       "      <td>trafficSource.keyword</td>\n",
       "      <td>58.250125</td>\n",
       "    </tr>\n",
       "    <tr>\n",
       "      <th>27</th>\n",
       "      <td>trafficSource.isTrueDirect</td>\n",
       "      <td>71.623068</td>\n",
       "    </tr>\n",
       "    <tr>\n",
       "      <th>28</th>\n",
       "      <td>trafficSource.referralPath</td>\n",
       "      <td>58.981379</td>\n",
       "    </tr>\n",
       "    <tr>\n",
       "      <th>29</th>\n",
       "      <td>trafficSource.adwordsClickInfo.page</td>\n",
       "      <td>97.716048</td>\n",
       "    </tr>\n",
       "    <tr>\n",
       "      <th>30</th>\n",
       "      <td>trafficSource.adwordsClickInfo.slot</td>\n",
       "      <td>97.716048</td>\n",
       "    </tr>\n",
       "    <tr>\n",
       "      <th>31</th>\n",
       "      <td>trafficSource.adwordsClickInfo.gclId</td>\n",
       "      <td>97.626855</td>\n",
       "    </tr>\n",
       "    <tr>\n",
       "      <th>32</th>\n",
       "      <td>trafficSource.adwordsClickInfo.adNetworkType</td>\n",
       "      <td>97.716048</td>\n",
       "    </tr>\n",
       "    <tr>\n",
       "      <th>33</th>\n",
       "      <td>trafficSource.adwordsClickInfo.isVideoAd</td>\n",
       "      <td>97.716048</td>\n",
       "    </tr>\n",
       "    <tr>\n",
       "      <th>34</th>\n",
       "      <td>trafficSource.adContent</td>\n",
       "      <td>98.775194</td>\n",
       "    </tr>\n",
       "  </tbody>\n",
       "</table>\n",
       "</div>"
      ],
      "text/plain": [
       "                                         Columns Null Values Count\n",
       "0                                channelGrouping               0.0\n",
       "1                                           date               0.0\n",
       "2                                  fullVisitorId               0.0\n",
       "3                                      sessionId               0.0\n",
       "4                                        visitId               0.0\n",
       "5                                    visitNumber               0.0\n",
       "6                                 visitStartTime               0.0\n",
       "7                                 device.browser               0.0\n",
       "8                         device.operatingSystem               0.0\n",
       "9                                device.isMobile               0.0\n",
       "10                         device.deviceCategory               0.0\n",
       "11                          geoNetwork.continent               0.0\n",
       "12                       geoNetwork.subContinent               0.0\n",
       "13                            geoNetwork.country               0.0\n",
       "14                             geoNetwork.region               0.0\n",
       "15                              geoNetwork.metro               0.0\n",
       "16                               geoNetwork.city               0.0\n",
       "17                      geoNetwork.networkDomain               0.0\n",
       "18                                   totals.hits               0.0\n",
       "19                              totals.pageviews          0.007636\n",
       "20                                totals.bounces         50.597741\n",
       "21                              totals.newVisits         21.535368\n",
       "22                     totals.transactionRevenue         98.738896\n",
       "23                        trafficSource.campaign               0.0\n",
       "24                          trafficSource.source               0.0\n",
       "25                          trafficSource.medium               0.0\n",
       "26                         trafficSource.keyword         58.250125\n",
       "27                    trafficSource.isTrueDirect         71.623068\n",
       "28                    trafficSource.referralPath         58.981379\n",
       "29           trafficSource.adwordsClickInfo.page         97.716048\n",
       "30           trafficSource.adwordsClickInfo.slot         97.716048\n",
       "31          trafficSource.adwordsClickInfo.gclId         97.626855\n",
       "32  trafficSource.adwordsClickInfo.adNetworkType         97.716048\n",
       "33      trafficSource.adwordsClickInfo.isVideoAd         97.716048\n",
       "34                       trafficSource.adContent         98.775194"
      ]
     },
     "execution_count": 31,
     "metadata": {},
     "output_type": "execute_result"
    }
   ],
   "source": [
    "missing_values"
   ]
  },
  {
   "cell_type": "markdown",
   "id": "dramatic-carnival",
   "metadata": {},
   "source": [
    "### Removing all the columns which have missing values greater than 90%"
   ]
  },
  {
   "cell_type": "code",
   "execution_count": 33,
   "id": "alien-avatar",
   "metadata": {},
   "outputs": [],
   "source": [
    "for i in missing_values.index:\n",
    "    if missing_values.iloc[i]['Null Values Count']>90 and  missing_values.iloc[i]['Columns']!='totals.transactionRevenue':\n",
    "        ddf=ddf.drop( missing_values.iloc[i]['Columns'] ,axis=1)"
   ]
  },
  {
   "cell_type": "markdown",
   "id": "supported-palmer",
   "metadata": {},
   "source": [
    "### The columns left after removing all columns with missing values > 90%"
   ]
  },
  {
   "cell_type": "code",
   "execution_count": 34,
   "id": "ongoing-shepherd",
   "metadata": {},
   "outputs": [
    {
     "data": {
      "text/plain": [
       "Index(['channelGrouping', 'date', 'fullVisitorId', 'sessionId', 'visitId',\n",
       "       'visitNumber', 'visitStartTime', 'device.browser',\n",
       "       'device.operatingSystem', 'device.isMobile', 'device.deviceCategory',\n",
       "       'geoNetwork.continent', 'geoNetwork.subContinent', 'geoNetwork.country',\n",
       "       'geoNetwork.region', 'geoNetwork.metro', 'geoNetwork.city',\n",
       "       'geoNetwork.networkDomain', 'totals.hits', 'totals.pageviews',\n",
       "       'totals.bounces', 'totals.newVisits', 'totals.transactionRevenue',\n",
       "       'trafficSource.campaign', 'trafficSource.source',\n",
       "       'trafficSource.medium', 'trafficSource.keyword',\n",
       "       'trafficSource.isTrueDirect', 'trafficSource.referralPath'],\n",
       "      dtype='object')"
      ]
     },
     "execution_count": 34,
     "metadata": {},
     "output_type": "execute_result"
    }
   ],
   "source": [
    "ddf.columns"
   ]
  },
  {
   "cell_type": "code",
   "execution_count": 1,
   "id": "going-pacific",
   "metadata": {},
   "outputs": [
    {
     "data": {
      "text/plain": [
       "29"
      ]
     },
     "execution_count": 1,
     "metadata": {},
     "output_type": "execute_result"
    }
   ],
   "source": [
    "len(['channelGrouping', 'date', 'fullVisitorId', 'sessionId', 'visitId',\n",
    "       'visitNumber', 'visitStartTime', 'device.browser',\n",
    "       'device.operatingSystem', 'device.isMobile', 'device.deviceCategory',\n",
    "       'geoNetwork.continent', 'geoNetwork.subContinent', 'geoNetwork.country',\n",
    "       'geoNetwork.region', 'geoNetwork.metro', 'geoNetwork.city',\n",
    "       'geoNetwork.networkDomain', 'totals.hits', 'totals.pageviews',\n",
    "       'totals.bounces', 'totals.newVisits', 'totals.transactionRevenue',\n",
    "       'trafficSource.campaign', 'trafficSource.source',\n",
    "       'trafficSource.medium', 'trafficSource.keyword',\n",
    "       'trafficSource.isTrueDirect', 'trafficSource.referralPath'])"
   ]
  },
  {
   "cell_type": "code",
   "execution_count": 2,
   "id": "convenient-effectiveness",
   "metadata": {},
   "outputs": [
    {
     "data": {
      "text/plain": [
       "29"
      ]
     },
     "execution_count": 2,
     "metadata": {},
     "output_type": "execute_result"
    }
   ],
   "source": [
    "55-20-6"
   ]
  },
  {
   "cell_type": "markdown",
   "id": "naval-emperor",
   "metadata": {},
   "source": [
    "### Saving the CSV file"
   ]
  },
  {
   "cell_type": "code",
   "execution_count": 36,
   "id": "willing-fountain",
   "metadata": {},
   "outputs": [
    {
     "data": {
      "text/plain": [
       "['C:/Users/dhira/Desktop/Coursera/Applied/Case Study - Google Anayltics/cleaned_data.csv']"
      ]
     },
     "execution_count": 36,
     "metadata": {},
     "output_type": "execute_result"
    }
   ],
   "source": [
    "ddf.to_csv('cleaned_data.csv',index=False,single_file=True)"
   ]
  },
  {
   "cell_type": "code",
   "execution_count": 39,
   "id": "lonely-shelf",
   "metadata": {},
   "outputs": [
    {
     "data": {
      "text/plain": [
       "29"
      ]
     },
     "execution_count": 39,
     "metadata": {},
     "output_type": "execute_result"
    }
   ],
   "source": [
    "len(ddf.columns)"
   ]
  }
 ],
 "metadata": {
  "kernelspec": {
   "display_name": "Python 3",
   "language": "python",
   "name": "python3"
  },
  "language_info": {
   "codemirror_mode": {
    "name": "ipython",
    "version": 3
   },
   "file_extension": ".py",
   "mimetype": "text/x-python",
   "name": "python",
   "nbconvert_exporter": "python",
   "pygments_lexer": "ipython3",
   "version": "3.7.3"
  }
 },
 "nbformat": 4,
 "nbformat_minor": 5
}
